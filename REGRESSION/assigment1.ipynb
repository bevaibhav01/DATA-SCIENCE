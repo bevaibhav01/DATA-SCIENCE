{
 "cells": [
  {
   "cell_type": "markdown",
   "id": "4007d878-8b6f-4464-968f-25a3ee76e0da",
   "metadata": {},
   "source": [
    "Q1. Explain the difference between simple linear regression and multiple linear regression. Provide an\n",
    "example of each.\n",
    "\n",
    "\n",
    "Ans:- \n",
    "simple:- One Independent feature and One dependent feature\n",
    "Eg:- predicting salary based on year of exp\n",
    "\n",
    "\n",
    "multiple:- more the one independent feature and one dependent feature\n",
    "Eg:- Predicting House price based on area,locality,rooms...etc."
   ]
  },
  {
   "cell_type": "code",
   "execution_count": null,
   "id": "42cf97a7-92b9-4c4f-8ad8-90f8747ae6a1",
   "metadata": {},
   "outputs": [],
   "source": []
  },
  {
   "cell_type": "raw",
   "id": "cef6bd39-3fae-478d-9ad8-84be8cb97d48",
   "metadata": {},
   "source": [
    "Q2. Discuss the assumptions of linear regression. How can you check whether these assumptions hold in\n",
    "a given dataset?\n",
    "\n",
    "\n",
    "Ans:-\n",
    "1) There should be the linear relation between independent and dependent variable(CAN BE CHECK MY PLOTTING AND CHECKING IF DATA IS LINEARLY SPREAD)\n",
    "2)Meand of residueal should be zero (residuel = y-y^)  can by check my simple mean function\n",
    "3)Normality: The errors follow a normal distribution.\n",
    "4)No multicollinearity: The independent variables are not highly correlated with each other.\n",
    "5)No endogeneity: There is no relationship between the errors and the independent variables.\n"
   ]
  },
  {
   "cell_type": "code",
   "execution_count": null,
   "id": "bb95b79c-2e37-4679-a019-66a8afdedd00",
   "metadata": {},
   "outputs": [],
   "source": []
  },
  {
   "cell_type": "markdown",
   "id": "277fd1f9-f851-4f54-9680-411dc1820448",
   "metadata": {},
   "source": [
    "Q3. How do you interpret the slope and intercept in a linear regression model? Provide an example using\n",
    "a real-world scenario.\n",
    "\n",
    "Ans:-\n"
   ]
  },
  {
   "cell_type": "code",
   "execution_count": null,
   "id": "818d26ed-66fd-4c55-ab80-4ef4f5bd7865",
   "metadata": {},
   "outputs": [],
   "source": []
  },
  {
   "cell_type": "markdown",
   "id": "9efe74be-d5cf-4fbe-b580-b7dcc433edcd",
   "metadata": {},
   "source": [
    "Q4. Explain the concept of gradient descent. How is it used in machine learning?\n",
    "\n",
    "ans:-\n",
    "Gradient descent is a fundamental optimization algorithm used in machine learning for minimizing the cost function or error function associated with a model's parameters during the training process.\n",
    "\n"
   ]
  },
  {
   "cell_type": "code",
   "execution_count": null,
   "id": "285f4e1e-f7c9-4af7-8b7f-f34de045670d",
   "metadata": {},
   "outputs": [],
   "source": []
  },
  {
   "cell_type": "markdown",
   "id": "79b3dc85-4340-4e97-a926-e197677faed9",
   "metadata": {},
   "source": [
    "Q5. Describe the multiple linear regression model. How does it differ from simple linear regression?\n",
    "\n",
    "ans:- mlr is algorithm where we try to predict a continous value by given multiple features it try to find best fit plane\n",
    "in simple there is only one independent feature here we have more the one"
   ]
  },
  {
   "cell_type": "code",
   "execution_count": null,
   "id": "81762c36-4c2d-41d7-8fff-ee9a1dbe0703",
   "metadata": {},
   "outputs": [],
   "source": []
  },
  {
   "cell_type": "markdown",
   "id": "b3491fb0-16b3-4276-9c88-c7a849621d85",
   "metadata": {},
   "source": [
    "Q6. Explain the concept of multicollinearity in multiple linear regression. How can you detect and\n",
    "address this issue?\n",
    "\n",
    "\n",
    "Ans:-Multicollinearity in multiple linear regression occurs when two or more predictor variables in the model are highly correlated with each other. This high correlation can cause problems\n",
    "\n",
    "detection:- correlation matrix\n",
    "\n",
    "solve:- remove reduntant variable\n",
    "        factor analysis \n",
    "        dimension reduction (pca)"
   ]
  },
  {
   "cell_type": "code",
   "execution_count": null,
   "id": "a38660ea-3bf7-4d4f-a9bf-910766de715b",
   "metadata": {},
   "outputs": [],
   "source": []
  },
  {
   "cell_type": "markdown",
   "id": "b4c5fd03-0006-4fed-b848-5ca3e1440bd2",
   "metadata": {},
   "source": [
    "Q7. Describe the polynomial regression model. How is it different from linear regression?\n",
    "\n",
    "\n",
    "ans:-Polynomial regression is a type of regression analysis used when the relationship between the independent variable(s) and the dependent variable is best described by a polynomial function rather than a linear one. While linear regression models the relationship between the independent variable(s) and the dependent variable as a straight line, polynomial regression allows for a more flexible curve-fitting approach.\n",
    "\n",
    "degre of linear regression is 1 while for polynomial it is more than one"
   ]
  },
  {
   "cell_type": "code",
   "execution_count": null,
   "id": "ce1b7892-186a-4955-a5f3-ed9a08b3e1e2",
   "metadata": {},
   "outputs": [],
   "source": []
  },
  {
   "cell_type": "markdown",
   "id": "f983cc9a-e3c2-495d-b6ca-999bc6118f8a",
   "metadata": {},
   "source": [
    "What are the advantages and disadvantages of polynomial regression compared to linear\n",
    "regression? In what situations would you prefer to use polynomial regression?\n"
"ans:-advatange:- flexible
            high degree
            improved accurracy
            
disadvantage:- overfitting
               interpretability
               
               
i will use polynomial when data is non linear and curvley spread for linear will use linear regression   .\n",
    "\n",
   ]
  },
  {
   "cell_type": "code",
   "execution_count": null,
   "id": "2551b69d-868b-4ba1-b945-4ece484b765a",
   "metadata": {},
   "outputs": [],
   "source": []
  },
  {
   "cell_type": "code",
   "execution_count": null,
   "id": "225daaea-b6ad-4d30-bfa1-fb77690fe666",
   "metadata": {},
   "outputs": [],
   "source": []
  },
  {
   "cell_type": "code",
   "execution_count": null,
   "id": "0e640ed7-9d73-45e0-9c35-ed633e2f16da",
   "metadata": {},
   "outputs": [],
   "source": []
  },
  {
   "cell_type": "code",
   "execution_count": null,
   "id": "f41d2990-04d0-441e-ae91-c8af87c3e460",
   "metadata": {},
   "outputs": [],
   "source": []
  },
  {
   "cell_type": "code",
   "execution_count": null,
   "id": "3d46ed13-0dc5-4bb7-b9ba-4819c72d677d",
   "metadata": {},
   "outputs": [],
   "source": []
  }
 ],
 "metadata": {
  "kernelspec": {
   "display_name": "Python 3 (ipykernel)",
   "language": "python",
   "name": "python3"
  },
  "language_info": {
   "codemirror_mode": {
    "name": "ipython",
    "version": 3
   },
   "file_extension": ".py",
   "mimetype": "text/x-python",
   "name": "python",
   "nbconvert_exporter": "python",
   "pygments_lexer": "ipython3",
   "version": "3.10.8"
  }
 },
 "nbformat": 4,
 "nbformat_minor": 5
}
