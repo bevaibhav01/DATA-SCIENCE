{
 "cells": [
  {
   "cell_type": "markdown",
   "id": "a710a75b-8129-4a7b-ab89-bde6bfb95c37",
   "metadata": {},
   "source": [
    "Q1. What is Bayes' theorem?\n",
    "\n",
    " It describes the probability of an event based on prior knowledge or beliefs about related events."
   ]
  },
  {
   "cell_type": "code",
   "execution_count": null,
   "id": "3e1e4d18-0266-4a7a-8c87-178a59d38266",
   "metadata": {},
   "outputs": [],
   "source": []
  },
  {
   "cell_type": "markdown",
   "id": "4481224c-5b75-4ee9-96a5-f2492a2967ec",
   "metadata": {},
   "source": [
    "Q2. What is the formula for Bayes' theorem?\n",
    "\n",
    "P(A∣B)= P(B∣A)×P(A)/P(B)\n"
   ]
  },
  {
   "cell_type": "code",
   "execution_count": null,
   "id": "3c587315-935d-4e83-9ffb-1240ad1b022a",
   "metadata": {},
   "outputs": [],
   "source": []
  },
  {
   "cell_type": "markdown",
   "id": "5efacce2-097e-43c2-a7b1-166115fe00c5",
   "metadata": {},
   "source": [
    "Q3. How is Bayes' theorem used in practice?\n",
    "\n",
    "Bayes' theorem is used in various practical applications across different fields. Here are a few examples:\n",
    "\n",
    "Medical Diagnosis: Bayes' theorem is used in medical diagnosis to calculate the probability of a disease given certain symptoms. Doctors use prior knowledge of the prevalence of a disease and the likelihood of certain symptoms occurring to update the probability of a patient having that disease based on their symptoms.\n",
    "Spam Filtering: Email spam filters often use Bayes' theorem to classify emails as spam or not spam. By analyzing the frequency of certain words or phrases in both spam and legitimate emails, the filter can calculate the probability that an email is spam given its content."
   ]
  },
  {
   "cell_type": "code",
   "execution_count": null,
   "id": "38385534-b0b2-43cc-900a-d9901638cc2a",
   "metadata": {},
   "outputs": [],
   "source": []
  },
  {
   "cell_type": "markdown",
   "id": "186b36fd-ddf0-4795-b5f9-22e8cedc6647",
   "metadata": {},
   "source": [
    "Q4. What is the relationship between Bayes' theorem and conditional probability?\n",
    "\n",
    "\n",
    "Bayes' theorem is closely related to conditional probability. Conditional probability is the probability of an event occurring given that another event has already occurred. Bayes' theorem provides a way to compute conditional probabilities by relating them to prior probabilities."
   ]
  },
  {
   "cell_type": "code",
   "execution_count": null,
   "id": "155de366-7d6b-4970-84a6-c01d78eaf164",
   "metadata": {},
   "outputs": [],
   "source": []
  },
  {
   "cell_type": "markdown",
   "id": "6260ba5f-f737-4ceb-9124-f5e1c19abc92",
   "metadata": {},
   "source": [
    "Q5. How do you choose which type of Naive Bayes classifier to use for any given problem?\n",
    "\n",
    "\n"
   ]
  },
  {
   "cell_type": "code",
   "execution_count": null,
   "id": "03f9e0e5-f537-4bc1-957b-2b6e3862a75e",
   "metadata": {},
   "outputs": [],
   "source": []
  },
  {
   "cell_type": "code",
   "execution_count": null,
   "id": "89587ea4-891c-4d61-857c-b09f1f0ce355",
   "metadata": {},
   "outputs": [],
   "source": []
  },
  {
   "cell_type": "code",
   "execution_count": null,
   "id": "e2fcfefa-bef0-4ac3-ba51-b9c435afc689",
   "metadata": {},
   "outputs": [],
   "source": []
  },
  {
   "cell_type": "code",
   "execution_count": null,
   "id": "d0eb9434-e202-44d7-8144-1681842bd403",
   "metadata": {},
   "outputs": [],
   "source": []
  },
  {
   "cell_type": "code",
   "execution_count": null,
   "id": "dfbb5b3a-9cdc-4cd2-a243-48532fa506cd",
   "metadata": {},
   "outputs": [],
   "source": []
  },
  {
   "cell_type": "code",
   "execution_count": null,
   "id": "98469fe6-fd8f-4f72-98ea-6262610c7dd2",
   "metadata": {},
   "outputs": [],
   "source": []
  }
 ],
 "metadata": {
  "kernelspec": {
   "display_name": "Python 3 (ipykernel)",
   "language": "python",
   "name": "python3"
  },
  "language_info": {
   "codemirror_mode": {
    "name": "ipython",
    "version": 3
   },
   "file_extension": ".py",
   "mimetype": "text/x-python",
   "name": "python",
   "nbconvert_exporter": "python",
   "pygments_lexer": "ipython3",
   "version": "3.10.8"
  }
 },
 "nbformat": 4,
 "nbformat_minor": 5
}
